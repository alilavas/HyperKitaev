{
 "cells": [
  {
   "cell_type": "code",
   "execution_count": 14,
   "metadata": {},
   "outputs": [],
   "source": [
    "using DelimitedFiles\n",
    "using F_utilities"
   ]
  },
  {
   "cell_type": "code",
   "execution_count": 118,
   "metadata": {},
   "outputs": [
    {
     "data": {
      "text/plain": [
       "flipSigns"
      ]
     },
     "metadata": {},
     "output_type": "display_data"
    }
   ],
   "source": [
    "\"\"\"\n",
    "    majoranaH(Jx,Jy,Jz,adjMatX)\n",
    "\n",
    "return the majorana Hamiltonian corresponding to colored adjancacy matrix\n",
    "adJMatX and coupligns jx, Jy, and Jz for the gauge configuration where the \n",
    "gauge confgration is chosen according to the trivial zero-flux sector.\n",
    "\"\"\"\n",
    "function majoranaH(Jx,Jy,Jz,adjMatX)\n",
    "    n=size(adjMatX,1)\n",
    "    H=zeros(Float64,n,n)\n",
    "    coupling=[Jx,Jy,Jz]./2\n",
    "\n",
    "    for i in 2:2:n\n",
    "        neighbors=findall(!isequal(0),adjMatX[:,i])\n",
    "        for j in neighbors\n",
    "            H[i,j]=coupling[adjMatX[j,i]]\n",
    "        end\n",
    "    end\n",
    "    H=H-transpose(H)\n",
    "    return H\n",
    "end\n",
    "\n",
    "\"\"\"\n",
    "    gsEnergy(h)\n",
    "\n",
    "return the ground state energy of the Majorana hamiltonian h\n",
    "\"\"\"\n",
    "function  gsEnergy(h)\n",
    "    hd,O=F_utilities.Diag_real_skew(h)\n",
    "    return -2*sum([hd[i-1,i] for i in 2:2:size(hd,1)])\n",
    "end\n",
    "    \n",
    "\n",
    "\"\"\"\n",
    "    flipSigns(H,E)\n",
    "flip the sign of coupling for the edges in E\n",
    "\"\"\"\n",
    "function flipSigns(h,E)\n",
    "    h2=deepcopy(h)\n",
    "    for e in E\n",
    "        u,v=e\n",
    "        h2[u,v]*=-1\n",
    "        h2[v,u]*=-1\n",
    "    end\n",
    "    return h2\n",
    "end\n",
    "\n"
   ]
  },
  {
   "cell_type": "code",
   "execution_count": 122,
   "metadata": {},
   "outputs": [
    {
     "name": "stdout",
     "output_type": "stream",
     "text": [
      "-9.663381206337363e-12"
     ]
    }
   ],
   "source": [
    "amx=readdlm(\"adjMatX\",Int)\n",
    "E=readdlm(\"dualLoop\",Int)\n",
    "E=[[E[i,1],E[i,2]] for i in 1:size(E,1) ]\n",
    "h0=majoranaH(1,.1,.1,amx)\n",
    "h1=flipSigns(h0,E)\n",
    "print(gsEnergy(h1)-gsEnergy(h0))"
   ]
  },
  {
   "cell_type": "code",
   "execution_count": 123,
   "metadata": {},
   "outputs": [
    {
     "data": {
      "text/plain": [
       "-675.3517142360918"
      ]
     },
     "metadata": {},
     "output_type": "display_data"
    }
   ],
   "source": [
    "gsEnergy(h0)"
   ]
  }
 ],
 "metadata": {
  "kernelspec": {
   "display_name": "Julia 1.8.5",
   "language": "julia",
   "name": "julia-1.8"
  },
  "language_info": {
   "file_extension": ".jl",
   "mimetype": "application/julia",
   "name": "julia",
   "version": "1.8.5"
  }
 },
 "nbformat": 4,
 "nbformat_minor": 2
}
