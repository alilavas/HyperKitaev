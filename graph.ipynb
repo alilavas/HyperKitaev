{
 "cells": [
  {
   "cell_type": "code",
   "execution_count": 3,
   "metadata": {},
   "outputs": [],
   "source": [
    "using DelimitedFiles\n",
    "include(\"graphFunctions.jl\");"
   ]
  },
  {
   "cell_type": "code",
   "execution_count": 42,
   "metadata": {},
   "outputs": [],
   "source": [
    "ct=readdlm(\"cosetTable\",Int)\n",
    "E,dE,F,d1,d2,g,dg=geometry(ct);\n",
    "dist,prev=shortestPaths(g,1);\n",
    "dist_dual,prev_dual=shortestPaths(dg,1);\n",
    "path=shortestNonContractableCycle(E,dE,g,dg,d1,d2, dist, prev)\n",
    "path_dual=shortestNonContractableCycle(dE,E,dg,g,transpose(d2),transpose(d1),dist_dual,prev_dual);\n",
    "\n",
    "open(\"adjMatX\", \"w\") do io\n",
    "    writedlm(io, adjMatX(ct), ' ')\n",
    "end;\n",
    "\n",
    "open(\"dualLoop\", \"w\") do io\n",
    "    writedlm(io, [E[e] for e in path_dual], ' ')\n",
    "end;"
   ]
  },
  {
   "cell_type": "code",
   "execution_count": 33,
   "metadata": {},
   "outputs": [
    {
     "data": {
      "text/plain": [
       "9-element Vector{Int64}:\n",
       "  8\n",
       "  9\n",
       " 32\n",
       " 31\n",
       " 58\n",
       " 57\n",
       " 17\n",
       "  2\n",
       "  1"
      ]
     },
     "metadata": {},
     "output_type": "display_data"
    }
   ],
   "source": [
    "ct=readdlm(\"cosetTable\",Int)\n",
    "E=edges(ct);\n",
    "am=adjMatX(ct)\n",
    "redEdges=coloredEdges(E,am,1)\n",
    "F=faces(ct);\n",
    "compactifyEdges!(F,redEdges)\n",
    "E,dE,d1,d2,g,dg=geometryFromFace(F)\n",
    "dist,prev=shortestPaths(g,1);\n",
    "shortestNonContractableCycle(E,dE,g,dg,d1,d2, dist, prev)"
   ]
  },
  {
   "cell_type": "code",
   "execution_count": null,
   "metadata": {},
   "outputs": [],
   "source": []
  }
 ],
 "metadata": {
  "kernelspec": {
   "display_name": "Julia 1.8.5",
   "language": "julia",
   "name": "julia-1.8"
  },
  "language_info": {
   "file_extension": ".jl",
   "mimetype": "application/julia",
   "name": "julia",
   "version": "1.8.5"
  }
 },
 "nbformat": 4,
 "nbformat_minor": 2
}
