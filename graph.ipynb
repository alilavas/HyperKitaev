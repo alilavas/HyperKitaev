{
 "cells": [
  {
   "cell_type": "code",
   "execution_count": 2,
   "metadata": {},
   "outputs": [],
   "source": [
    "using DelimitedFiles\n",
    "include(\"graphFunctions.jl\");"
   ]
  },
  {
   "cell_type": "code",
   "execution_count": null,
   "metadata": {},
   "outputs": [],
   "source": [
    "ct=readdlm(\"cosetTable\",Int)\n",
    "E,dE,F,d1,d2,g,dg=geometry(ct);\n",
    "dist,prev=shortestPaths(g,1);\n",
    "shortestNonContractableCycle(E,dE,g,dg,d1,d2, dist, prev)"
   ]
  },
  {
   "cell_type": "code",
   "execution_count": null,
   "metadata": {},
   "outputs": [],
   "source": [
    "ct=readdlm(\"cosetTable\",Int)\n",
    "E=edges(ct);\n",
    "am=adjMatX(ct)\n",
    "redEdges=coloredEdges(E,am,3)\n",
    "F=faces(ct);\n",
    "compactifyEdges!(F,redEdges)\n",
    "E,dE,d1,d2,g,dg=geometryFromFace(F)\n",
    "dist,prev=shortestPaths(g,1);\n",
    "shortestNonContractableCycle(E,dE,g,dg,d1,d2, dist, prev)"
   ]
  },
  {
   "cell_type": "code",
   "execution_count": null,
   "metadata": {},
   "outputs": [],
   "source": []
  }
 ],
 "metadata": {
  "kernelspec": {
   "display_name": "Julia 1.8.5",
   "language": "julia",
   "name": "julia-1.8"
  },
  "language_info": {
   "file_extension": ".jl",
   "mimetype": "application/julia",
   "name": "julia",
   "version": "1.8.5"
  }
 },
 "nbformat": 4,
 "nbformat_minor": 2
}
